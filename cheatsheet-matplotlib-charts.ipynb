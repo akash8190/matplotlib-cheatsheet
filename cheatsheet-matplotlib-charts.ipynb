{
 "cells": [
  {
   "cell_type": "markdown",
   "execution_count": null,
   "metadata": {
    "papermill": {
     "duration": 0.014038,
     "end_time": "2020-09-07T07:47:58.544683",
     "exception": false,
     "start_time": "2020-09-07T07:47:58.530645",
     "status": "completed"
    },
    "tags": []
   },
   "source": [
    "<font color='blue' size=10><center><u> Cheatsheet - Matplotlib Charts</u></center> </font>"
   ]
  },
  {
   "cell_type": "markdown",
   "execution_count": null,
   "metadata": {
    "papermill": {
     "duration": 0.01246,
     "end_time": "2020-09-07T07:47:58.571546",
     "exception": false,
     "start_time": "2020-09-07T07:47:58.559086",
     "status": "completed"
    },
    "tags": []
   },
   "source": [
    "This kernel is all about matplotlib charts -- the basic python data visualization tool."
   ]
  },
  {
   "cell_type": "markdown",
   "execution_count": null,
   "metadata": {
    "papermill": {
     "duration": 0.011953,
     "end_time": "2020-09-07T07:47:58.596122",
     "exception": false,
     "start_time": "2020-09-07T07:47:58.584169",
     "status": "completed"
    },
    "tags": []
   },
   "source": [
    "<font color='red' size=5> Please Upvote my kernel and keep it in your favourite section if you think it is helpful.</font>"
   ]
  },
  {
   "cell_type": "markdown",
   "execution_count": null,
   "metadata": {
    "papermill": {
     "duration": 0.011925,
     "end_time": "2020-09-07T07:47:58.620530",
     "exception": false,
     "start_time": "2020-09-07T07:47:58.608605",
     "status": "completed"
    },
    "tags": []
   },
   "source": [
    "In the last few months, I was working extensively on plots and to be honest it is hard to remember each and everything and I am tired of looking back and forth in my notebooks for the reference. This hectic process motivates me to prepare this notebook not only for me but also others. Now I dont have to look at different notebooks for the reference only this one enough. I am making this notebook specially copy paste purpose and for beginners to learn matplotlib.\n",
    "\n",
    "I used different datasets such as titanic, heart-disease, iris, pima-indians-diabetes, heart-failure-clinical data and pokemon datasets available on kaggle. All this datasets are used for visulization purpose only, I not trying to say or interpret any conclusion here. \n",
    "\n",
    "Enjoy! 😄"
   ]
  },
  {
   "cell_type": "markdown",
   "execution_count": null,
   "metadata": {
    "papermill": {
     "duration": 0.01207,
     "end_time": "2020-09-07T07:47:58.645986",
     "exception": false,
     "start_time": "2020-09-07T07:47:58.633916",
     "status": "completed"
    },
    "tags": []
   },
   "source": [
    "# Table of Content\n",
    "- Introduction\n",
    "- Libraries\n",
    "- Data\n",
    "- Scatter Plot\n",
    "- Line Plot\n",
    "- Multiline Plot\n",
    "- Histogram\n",
    "- Bar Plot\n",
    "- Horizontal Bar Plot\n",
    "- Error Bar Plot\n",
    "- Stacked Bar Plot\n",
    "- Box Plot\n",
    "- Area Plot\n",
    "- Stacked Area Plot\n",
    "- Density Plot\n",
    "- Hexbin Plot\n",
    "- Lollipop Plot"
   ]
  },
  {
   "cell_type": "markdown",
   "execution_count": null,
   "metadata": {
    "papermill": {
     "duration": 0.012084,
     "end_time": "2020-09-07T07:47:58.670618",
     "exception": false,
     "start_time": "2020-09-07T07:47:58.658534",
     "status": "completed"
    },
    "tags": []
   },
   "source": [
    "# Introduction"
   ]
  },
  {
   "cell_type": "markdown",
   "execution_count": null,
   "metadata": {
    "papermill": {
     "duration": 0.012487,
     "end_time": "2020-09-07T07:47:58.695680",
     "exception": false,
     "start_time": "2020-09-07T07:47:58.683193",
     "status": "completed"
    },
    "tags": []
   },
   "source": [
    "## Matplotlib\n",
    "Matplotlib is a plotting library for the Python programming language. It allows to make quality charts in few lines of code. Most of the other python plotting library are build on top of Matplotlib. It makes that a basic understanding of matplotlib is probably needed to make any chart with python.\n"
   ]
  },
  {
   "cell_type": "markdown",
   "execution_count": null,
   "metadata": {
    "papermill": {
     "duration": 0.012532,
     "end_time": "2020-09-07T07:47:58.720813",
     "exception": false,
     "start_time": "2020-09-07T07:47:58.708281",
     "status": "completed"
    },
    "tags": []
   },
   "source": [
    "# Library"
   ]
  },
  {
   "cell_type": "code",
   "execution_count": 1,
   "metadata": {
    "_cell_guid": "b1076dfc-b9ad-4769-8c92-a6c4dae69d19",
    "_uuid": "8f2839f25d086af736a60e9eeb907d3b93b6e0e5",
    "execution": {
     "iopub.execute_input": "2020-09-07T07:47:58.752125Z",
     "iopub.status.busy": "2020-09-07T07:47:58.751216Z",
     "iopub.status.idle": "2020-09-07T07:47:58.755273Z",
     "shell.execute_reply": "2020-09-07T07:47:58.754350Z"
    },
    "papermill": {
     "duration": 0.022141,
     "end_time": "2020-09-07T07:47:58.755424",
     "exception": false,
     "start_time": "2020-09-07T07:47:58.733283",
     "status": "completed"
    },
    "tags": []
   },
   "outputs": [],
   "source": [
    "# Import dependencies\n",
    "\n",
    "import numpy as np\n",
    "import pandas as pd\n",
    "\n",
    "import matplotlib.pyplot as plt"
   ]
  },
  {
   "cell_type": "markdown",
   "execution_count": null,
   "metadata": {
    "papermill": {
     "duration": 0.012144,
     "end_time": "2020-09-07T07:47:58.780430",
     "exception": false,
     "start_time": "2020-09-07T07:47:58.768286",
     "status": "completed"
    },
    "tags": []
   },
   "source": [
    "# Data"
   ]
  },
  {
   "cell_type": "code",
   "execution_count": 2,
   "metadata": {
    "_cell_guid": "79c7e3d0-c299-4dcb-8224-4455121ee9b0",
    "_uuid": "d629ff2d2480ee46fbb7e2d37f6b5fab8052498a",
    "execution": {
     "iopub.execute_input": "2020-09-07T07:47:58.816814Z",
     "iopub.status.busy": "2020-09-07T07:47:58.815864Z",
     "iopub.status.idle": "2020-09-07T07:47:59.090875Z",
     "shell.execute_reply": "2020-09-07T07:47:59.090010Z"
    },
    "papermill": {
     "duration": 0.298028,
     "end_time": "2020-09-07T07:47:59.091039",
     "exception": false,
     "start_time": "2020-09-07T07:47:58.793011",
     "status": "completed"
    },
    "tags": []
   },
   "outputs": [],
   "source": [
    "titanic=pd.read_csv('../input/titanic/train.csv')\n",
    "heart_diseases=pd.read_csv('../input/heart-disease-uci/heart.csv')\n",
    "iris=pd.read_csv('../input/iris/Iris.csv')\n",
    "diabetes=pd.read_csv('../input/pima-indians-diabetes-database/diabetes.csv')\n",
    "pokemon=pd.read_csv('../input/pokemon/Pokemon.csv')\n",
    "heart_failure=pd.read_csv('../input/heart-failure-clinical-data/heart_failure_clinical_records_dataset.csv')\n",
    "corona_virus = pd.read_csv('../input/novel-corona-virus-2019-dataset/covid_19_data.csv')\n",
    "latest_covid_cases = pd.read_csv('../input/novel-covid19-dataset/cases_country.csv')"
   ]
  },
  {
   "cell_type": "code",
   "execution_count": 3,
   "metadata": {
    "execution": {
     "iopub.execute_input": "2020-09-07T07:47:59.140659Z",
     "iopub.status.busy": "2020-09-07T07:47:59.139873Z",
     "iopub.status.idle": "2020-09-07T07:47:59.156509Z",
     "shell.execute_reply": "2020-09-07T07:47:59.155721Z"
    },
    "papermill": {
     "duration": 0.052361,
     "end_time": "2020-09-07T07:47:59.156640",
     "exception": false,
     "start_time": "2020-09-07T07:47:59.104279",
     "status": "completed"
    },
    "tags": []
   },
   "outputs": [
    {
     "data": {
      "text/html": [
       "<div>\n",
       "<style scoped>\n",
       "    .dataframe tbody tr th:only-of-type {\n",
       "        vertical-align: middle;\n",
       "    }\n",
       "\n",
       "    .dataframe tbody tr th {\n",
       "        vertical-align: top;\n",
       "    }\n",
       "\n",
       "    .dataframe thead th {\n",
       "        text-align: right;\n",
       "    }\n",
       "</style>\n",
       "<table border=\"1\" class=\"dataframe\">\n",
       "  <thead>\n",
       "    <tr style=\"text-align: right;\">\n",
       "      <th></th>\n",
       "      <th>SNo</th>\n",
       "      <th>ObservationDate</th>\n",
       "      <th>Province/State</th>\n",
       "      <th>Country/Region</th>\n",
       "      <th>Last Update</th>\n",
       "      <th>Confirmed</th>\n",
       "      <th>Deaths</th>\n",
       "      <th>Recovered</th>\n",
       "    </tr>\n",
       "  </thead>\n",
       "  <tbody>\n",
       "    <tr>\n",
       "      <th>0</th>\n",
       "      <td>1</td>\n",
       "      <td>01/22/2020</td>\n",
       "      <td>Anhui</td>\n",
       "      <td>Mainland China</td>\n",
       "      <td>1/22/2020 17:00</td>\n",
       "      <td>1.0</td>\n",
       "      <td>0.0</td>\n",
       "      <td>0.0</td>\n",
       "    </tr>\n",
       "    <tr>\n",
       "      <th>1</th>\n",
       "      <td>2</td>\n",
       "      <td>01/22/2020</td>\n",
       "      <td>Beijing</td>\n",
       "      <td>Mainland China</td>\n",
       "      <td>1/22/2020 17:00</td>\n",
       "      <td>14.0</td>\n",
       "      <td>0.0</td>\n",
       "      <td>0.0</td>\n",
       "    </tr>\n",
       "    <tr>\n",
       "      <th>2</th>\n",
       "      <td>3</td>\n",
       "      <td>01/22/2020</td>\n",
       "      <td>Chongqing</td>\n",
       "      <td>Mainland China</td>\n",
       "      <td>1/22/2020 17:00</td>\n",
       "      <td>6.0</td>\n",
       "      <td>0.0</td>\n",
       "      <td>0.0</td>\n",
       "    </tr>\n",
       "    <tr>\n",
       "      <th>3</th>\n",
       "      <td>4</td>\n",
       "      <td>01/22/2020</td>\n",
       "      <td>Fujian</td>\n",
       "      <td>Mainland China</td>\n",
       "      <td>1/22/2020 17:00</td>\n",
       "      <td>1.0</td>\n",
       "      <td>0.0</td>\n",
       "      <td>0.0</td>\n",
       "    </tr>\n",
       "    <tr>\n",
       "      <th>4</th>\n",
       "      <td>5</td>\n",
       "      <td>01/22/2020</td>\n",
       "      <td>Gansu</td>\n",
       "      <td>Mainland China</td>\n",
       "      <td>1/22/2020 17:00</td>\n",
       "      <td>0.0</td>\n",
       "      <td>0.0</td>\n",
       "      <td>0.0</td>\n",
       "    </tr>\n",
       "    <tr>\n",
       "      <th>...</th>\n",
       "      <td>...</td>\n",
       "      <td>...</td>\n",
       "      <td>...</td>\n",
       "      <td>...</td>\n",
       "      <td>...</td>\n",
       "      <td>...</td>\n",
       "      <td>...</td>\n",
       "      <td>...</td>\n",
       "    </tr>\n",
       "    <tr>\n",
       "      <th>98247</th>\n",
       "      <td>98248</td>\n",
       "      <td>08/29/2020</td>\n",
       "      <td>Zaporizhia Oblast</td>\n",
       "      <td>Ukraine</td>\n",
       "      <td>2020-08-30 04:28:22</td>\n",
       "      <td>1520.0</td>\n",
       "      <td>25.0</td>\n",
       "      <td>883.0</td>\n",
       "    </tr>\n",
       "    <tr>\n",
       "      <th>98248</th>\n",
       "      <td>98249</td>\n",
       "      <td>08/29/2020</td>\n",
       "      <td>Zeeland</td>\n",
       "      <td>Netherlands</td>\n",
       "      <td>2020-08-30 04:28:22</td>\n",
       "      <td>1048.0</td>\n",
       "      <td>72.0</td>\n",
       "      <td>0.0</td>\n",
       "    </tr>\n",
       "    <tr>\n",
       "      <th>98249</th>\n",
       "      <td>98250</td>\n",
       "      <td>08/29/2020</td>\n",
       "      <td>Zhejiang</td>\n",
       "      <td>Mainland China</td>\n",
       "      <td>2020-08-30 04:28:22</td>\n",
       "      <td>1277.0</td>\n",
       "      <td>1.0</td>\n",
       "      <td>1268.0</td>\n",
       "    </tr>\n",
       "    <tr>\n",
       "      <th>98250</th>\n",
       "      <td>98251</td>\n",
       "      <td>08/29/2020</td>\n",
       "      <td>Zhytomyr Oblast</td>\n",
       "      <td>Ukraine</td>\n",
       "      <td>2020-08-30 04:28:22</td>\n",
       "      <td>3155.0</td>\n",
       "      <td>61.0</td>\n",
       "      <td>1837.0</td>\n",
       "    </tr>\n",
       "    <tr>\n",
       "      <th>98251</th>\n",
       "      <td>98252</td>\n",
       "      <td>08/29/2020</td>\n",
       "      <td>Zuid-Holland</td>\n",
       "      <td>Netherlands</td>\n",
       "      <td>2020-08-30 04:28:22</td>\n",
       "      <td>18774.0</td>\n",
       "      <td>1344.0</td>\n",
       "      <td>0.0</td>\n",
       "    </tr>\n",
       "  </tbody>\n",
       "</table>\n",
       "<p>98252 rows × 8 columns</p>\n",
       "</div>"
      ],
      "text/plain": [
       "         SNo ObservationDate     Province/State  Country/Region  \\\n",
       "0          1      01/22/2020              Anhui  Mainland China   \n",
       "1          2      01/22/2020            Beijing  Mainland China   \n",
       "2          3      01/22/2020          Chongqing  Mainland China   \n",
       "3          4      01/22/2020             Fujian  Mainland China   \n",
       "4          5      01/22/2020              Gansu  Mainland China   \n",
       "...      ...             ...                ...             ...   \n",
       "98247  98248      08/29/2020  Zaporizhia Oblast         Ukraine   \n",
       "98248  98249      08/29/2020            Zeeland     Netherlands   \n",
       "98249  98250      08/29/2020           Zhejiang  Mainland China   \n",
       "98250  98251      08/29/2020    Zhytomyr Oblast         Ukraine   \n",
       "98251  98252      08/29/2020       Zuid-Holland     Netherlands   \n",
       "\n",
       "               Last Update  Confirmed  Deaths  Recovered  \n",
       "0          1/22/2020 17:00        1.0     0.0        0.0  \n",
       "1          1/22/2020 17:00       14.0     0.0        0.0  \n",
       "2          1/22/2020 17:00        6.0     0.0        0.0  \n",
       "3          1/22/2020 17:00        1.0     0.0        0.0  \n",
       "4          1/22/2020 17:00        0.0     0.0        0.0  \n",
       "...                    ...        ...     ...        ...  \n",
       "98247  2020-08-30 04:28:22     1520.0    25.0      883.0  \n",
       "98248  2020-08-30 04:28:22     1048.0    72.0        0.0  \n",
       "98249  2020-08-30 04:28:22     1277.0     1.0     1268.0  \n",
       "98250  2020-08-30 04:28:22     3155.0    61.0     1837.0  \n",
       "98251  2020-08-30 04:28:22    18774.0  1344.0        0.0  \n",
       "\n",
       "[98252 rows x 8 columns]"
      ]
     },
     "execution_count": 3,
     "metadata": {},
     "output_type": "execute_result"
    }
   ],
   "source": [
    "corona_virus"
   ]
  },
  {
   "cell_type": "markdown",
   "execution_count": null,
   "metadata": {
    "papermill": {
     "duration": 0.012825,
     "end_time": "2020-09-07T07:47:59.183558",
     "exception": false,
     "start_time": "2020-09-07T07:47:59.170733",
     "status": "completed"
    },
    "tags": []
   },
   "source": [
    "# Scatter Plot"
   ]
  },
  {
   "cell_type": "markdown",
   "execution_count": null,
   "metadata": {
    "papermill": {
     "duration": 0.012983,
     "end_time": "2020-09-07T07:47:59.209584",
     "exception": false,
     "start_time": "2020-09-07T07:47:59.196601",
     "status": "completed"
    },
    "tags": []
   },
   "source": [
    "A Scatterplot displays the value of 2 sets of data on 2 dimensions. Each dot represents an observation. The position on the X (horizontal) and Y (vertical) axis represents the values of the 2 variables. It is really useful to study the relationship between both variables. It is common to provide even more information using colors or shapes (to show groups, or a third variable). It is also possible to map another variable to the size of each dot, what makes a bubble plot. If you have many dots and struggle with overplotting, consider using 2D density plot."
   ]
  },
  {
   "cell_type": "markdown",
   "execution_count": null,
   "metadata": {
    "papermill": {
     "duration": 0.012871,
     "end_time": "2020-09-07T07:47:59.235463",
     "exception": false,
     "start_time": "2020-09-07T07:47:59.222592",
     "status": "completed"
    },
    "tags": []
   },
   "source": [
    "![](https://datavizcatalogue.com/methods/images/anatomy/scatterplot.png)\n",
    "<font size=1><center> Source: [DataVizCatalogue](https://datavizcatalogue.com/methods/images/anatomy/scatterplot.png) </center></font>"
   ]
  },
  {
   "cell_type": "code",
   "execution_count": 4,
   "metadata": {
    "execution": {
     "iopub.execute_input": "2020-09-07T07:47:59.269992Z",
     "iopub.status.busy": "2020-09-07T07:47:59.269073Z",
     "iopub.status.idle": "2020-09-07T07:47:59.503475Z",
     "shell.execute_reply": "2020-09-07T07:47:59.502571Z"
    },
    "papermill": {
     "duration": 0.254635,
     "end_time": "2020-09-07T07:47:59.503626",
     "exception": false,
     "start_time": "2020-09-07T07:47:59.248991",
     "status": "completed"
    },
    "tags": []
   },
   "outputs": [
    {
     "data": {
      "image/png": "[encoded data removed]",
      "text/plain": [
       "<Figure size 432x288 with 1 Axes>"
      ]
     },
     "metadata": {
      "needs_background": "light"
     },
     "output_type": "display_data"
    }
   ],
   "source": [
    "plt.plot(iris['PetalLengthCm'], iris['PetalWidthCm'], linestyle='none', marker='o', color='b')\n",
    "plt.show()"
   ]
  },
  {
   "cell_type": "markdown",
   "execution_count": null,
   "metadata": {
    "papermill": {
     "duration": 0.013292,
     "end_time": "2020-09-07T07:47:59.530303",
     "exception": false,
     "start_time": "2020-09-07T07:47:59.517011",
     "status": "completed"
    },
    "tags": []
   },
   "source": [
    "# Line Plot"
   ]
  },
  {
   "cell_type": "markdown",
   "execution_count": null,
   "metadata": {
    "papermill": {
     "duration": 0.013062,
     "end_time": "2020-09-07T07:47:59.557012",
     "exception": false,
     "start_time": "2020-09-07T07:47:59.543950",
     "status": "completed"
    },
    "tags": []
   },
   "source": [
    "![](https://datavizcatalogue.com/methods/images/anatomy/line_graph.png)\n",
    "<font size=1><center>Source: [DataVizCatalogue](https://datavizcatalogue.com/methods/images/anatomy/line_graph.png)</center></font>"
   ]
  },
  {
   "cell_type": "code",
   "execution_count": 5,
   "metadata": {
    "execution": {
     "iopub.execute_input": "2020-09-07T07:47:59.673105Z",
     "iopub.status.busy": "2020-09-07T07:47:59.598024Z",
     "iopub.status.idle": "2020-09-07T07:47:59.854735Z",
     "shell.execute_reply": "2020-09-07T07:47:59.854023Z"
    },
    "papermill": {
     "duration": 0.284117,
     "end_time": "2020-09-07T07:47:59.854891",
     "exception": false,
     "start_time": "2020-09-07T07:47:59.570774",
     "status": "completed"
    },
    "tags": []
   },
   "outputs": [
    {
     "data": {
      "image/png": "[encoded data removed]",
      "text/plain": [
       "<Figure size 432x288 with 1 Axes>"
      ]
     },
     "metadata": {
      "needs_background": "light"
     },
     "output_type": "display_data"
    }
   ],
   "source": [
    "x = np.linspace(0, 20, 1000)\n",
    "y = np.cos(x)\n",
    "\n",
    "plt.plot(x,y, color='b', linestyle='--')\n",
    "plt.show()"
   ]
  },
  {
   "cell_type": "markdown",
   "execution_count": null,
   "metadata": {
    "papermill": {
     "duration": 0.013524,
     "end_time": "2020-09-07T07:47:59.883462",
     "exception": false,
     "start_time": "2020-09-07T07:47:59.869938",
     "status": "completed"
    },
    "tags": []
   },
   "source": [
    "# Histogram\n",
    "An histogram is an accurate graphical representation of the distribution of numerical data. It takes as input one numerical variable only. The variable is cut into several bins, and the\n",
    "number of observation per bin is represented by the height of the bar."
   ]
  },
  {
   "cell_type": "markdown",
   "execution_count": null,
   "metadata": {
    "papermill": {
     "duration": 0.015193,
     "end_time": "2020-09-07T07:47:59.912355",
     "exception": false,
     "start_time": "2020-09-07T07:47:59.897162",
     "status": "completed"
    },
    "tags": []
   },
   "source": [
    "![](https://datavizcatalogue.com/methods/images/anatomy/histogram.png)\n",
    "<font size=1><center>Source: [DataVizCatalogue](https://datavizcatalogue.com/methods/images/anatomy/histogram.png)</center></font>"
   ]
  },
  {
   "cell_type": "code",
   "execution_count": 6,
   "metadata": {
    "execution": {
     "iopub.execute_input": "2020-09-07T07:47:59.954523Z",
     "iopub.status.busy": "2020-09-07T07:47:59.953663Z",
     "iopub.status.idle": "2020-09-07T07:48:00.155235Z",
     "shell.execute_reply": "2020-09-07T07:48:00.154454Z"
    },
    "papermill": {
     "duration": 0.228896,
     "end_time": "2020-09-07T07:48:00.155366",
     "exception": false,
     "start_time": "2020-09-07T07:47:59.926470",
     "status": "completed"
    },
    "tags": []
   },
   "outputs": [
    {
     "data": {
      "text/plain": [
       "Text(0.5, 1.0, 'Age distribution.')"
      ]
     },
     "execution_count": 6,
     "metadata": {},
     "output_type": "execute_result"
    },
    {
     "data": {
      "image/png": "[encoded data removed]",
      "text/plain": [
       "<Figure size 432x288 with 1 Axes>"
      ]
     },
     "metadata": {
      "needs_background": "light"
     },
     "output_type": "display_data"
    }
   ],
   "source": [
    "plt.hist(heart_diseases['age'])\n",
    "plt.xlabel('Age')\n",
    "plt.ylabel('Count')\n",
    "plt.title('Age distribution.')"
   ]
  },
  {
   "cell_type": "markdown",
   "execution_count": null,
   "metadata": {
    "papermill": {
     "duration": 0.014094,
     "end_time": "2020-09-07T07:48:00.184158",
     "exception": false,
     "start_time": "2020-09-07T07:48:00.170064",
     "status": "completed"
    },
    "tags": []
   },
   "source": [
    "# Bar Plot\n",
    "A barplot (or barchart) is one of the most common type of plot. It shows the relationship between a numerical variable and a categorical variable. For example, you can display the height of several individuals using bar chart."
   ]
  },
  {
   "cell_type": "markdown",
   "execution_count": null,
   "metadata": {
    "papermill": {
     "duration": 0.013818,
     "end_time": "2020-09-07T07:48:00.212456",
     "exception": false,
     "start_time": "2020-09-07T07:48:00.198638",
     "status": "completed"
    },
    "tags": []
   },
   "source": [
    "![](https://datavizcatalogue.com/methods/images/anatomy/bar_chart.png)\n",
    "<font size=1><center>Source: [DataVizCatalogue](https://datavizcatalogue.com/methods/images/anatomy/bar_chart.png)</center></font>"
   ]
  },
  {
   "cell_type": "code",
   "execution_count": 7,
   "metadata": {
    "execution": {
     "iopub.execute_input": "2020-09-07T07:48:00.254535Z",
     "iopub.status.busy": "2020-09-07T07:48:00.253248Z",
     "iopub.status.idle": "2020-09-07T07:48:00.256590Z",
     "shell.execute_reply": "2020-09-07T07:48:00.257249Z"
    },
    "papermill": {
     "duration": 0.030611,
     "end_time": "2020-09-07T07:48:00.257417",
     "exception": false,
     "start_time": "2020-09-07T07:48:00.226806",
     "status": "completed"
    },
    "tags": []
   },
   "outputs": [],
   "source": [
    "bar_data = pokemon['Type 1'].value_counts().reset_index()\n",
    "bar_data['err'] = pokemon['Type 1'].value_counts().std()"
   ]
  },
  {
   "cell_type": "code",
   "execution_count": 8,
   "metadata": {
    "execution": {
     "iopub.execute_input": "2020-09-07T07:48:00.295946Z",
     "iopub.status.busy": "2020-09-07T07:48:00.295071Z",
     "iopub.status.idle": "2020-09-07T07:48:00.529267Z",
     "shell.execute_reply": "2020-09-07T07:48:00.529872Z"
    },
    "papermill": {
     "duration": 0.257922,
     "end_time": "2020-09-07T07:48:00.530068",
     "exception": false,
     "start_time": "2020-09-07T07:48:00.272146",
     "status": "completed"
    },
    "tags": []
   },
   "outputs": [
    {
     "data": {
      "text/plain": [
       "Text(0.5, 1.0, 'Abilities of Pokemons')"
      ]
     },
     "execution_count": 8,
     "metadata": {},
     "output_type": "execute_result"
    },
    {
     "data": {
      "image/png": "[encoded data removed]",
      "text/plain": [
       "<Figure size 432x288 with 1 Axes>"
      ]
     },
     "metadata": {
      "needs_background": "light"
     },
     "output_type": "display_data"
    }
   ],
   "source": [
    "plt.bar(bar_data['index'], bar_data['Type 1'])\n",
    "plt.xticks(rotation=90)\n",
    "plt.xlabel('Ability')\n",
    "plt.ylabel('Count')\n",
    "plt.title(\"Abilities of Pokemons\")"
   ]
  },
  {
   "cell_type": "markdown",
   "execution_count": null,
   "metadata": {
    "papermill": {
     "duration": 0.014497,
     "end_time": "2020-09-07T07:48:00.559383",
     "exception": false,
     "start_time": "2020-09-07T07:48:00.544886",
     "status": "completed"
    },
    "tags": []
   },
   "source": [
    "# Horizontal Bar Chart"
   ]
  },
  {
   "cell_type": "code",
   "execution_count": 9,
   "metadata": {
    "execution": {
     "iopub.execute_input": "2020-09-07T07:48:00.604325Z",
     "iopub.status.busy": "2020-09-07T07:48:00.603418Z",
     "iopub.status.idle": "2020-09-07T07:48:00.832890Z",
     "shell.execute_reply": "2020-09-07T07:48:00.831980Z"
    },
    "papermill": {
     "duration": 0.258761,
     "end_time": "2020-09-07T07:48:00.833035",
     "exception": false,
     "start_time": "2020-09-07T07:48:00.574274",
     "status": "completed"
    },
    "tags": []
   },
   "outputs": [
    {
     "data": {
      "text/plain": [
       "Text(0.5, 1.0, 'Abilities of Pokemons')"
      ]
     },
     "execution_count": 9,
     "metadata": {},
     "output_type": "execute_result"
    },
    {
     "data": {
      "image/png": "[encoded data removed]",
      "text/plain": [
       "<Figure size 720x432 with 1 Axes>"
      ]
     },
     "metadata": {
      "needs_background": "light"
     },
     "output_type": "display_data"
    }
   ],
   "source": [
    "plt.figure(figsize=(10,6))\n",
    "plt.barh(bar_data['index'], bar_data['Type 1'])\n",
    "plt.xlabel('Ability')\n",
    "plt.ylabel('Count')\n",
    "plt.title(\"Abilities of Pokemons\")"
   ]
  },
  {
   "cell_type": "markdown",
   "execution_count": null,
   "metadata": {
    "papermill": {
     "duration": 0.015178,
     "end_time": "2020-09-07T07:48:00.863555",
     "exception": false,
     "start_time": "2020-09-07T07:48:00.848377",
     "status": "completed"
    },
    "tags": []
   },
   "source": [
    "# Error Bar Plot"
   ]
  },
  {
   "cell_type": "code",
   "execution_count": 10,
   "metadata": {
    "execution": {
     "iopub.execute_input": "2020-09-07T07:48:00.929968Z",
     "iopub.status.busy": "2020-09-07T07:48:00.904294Z",
     "iopub.status.idle": "2020-09-07T07:48:01.227963Z",
     "shell.execute_reply": "2020-09-07T07:48:01.227237Z"
    },
    "papermill": {
     "duration": 0.347832,
     "end_time": "2020-09-07T07:48:01.228114",
     "exception": false,
     "start_time": "2020-09-07T07:48:00.880282",
     "status": "completed"
    },
    "tags": []
   },
   "outputs": [
    {
     "data": {
      "text/plain": [
       "Text(0.5, 1.0, 'Abilities of Pokemons')"
      ]
     },
     "execution_count": 10,
     "metadata": {},
     "output_type": "execute_result"
    },
    {
     "data": {
      "image/png": "[encoded data removed]",
      "text/plain": [
       "<Figure size 432x288 with 1 Axes>"
      ]
     },
     "metadata": {
      "needs_background": "light"
     },
     "output_type": "display_data"
    }
   ],
   "source": [
    "plt.bar(bar_data['index'], bar_data['Type 1'], yerr=bar_data['err'])\n",
    "plt.xticks(rotation=90)\n",
    "plt.xlabel('Ability')\n",
    "plt.ylabel('Count')\n",
    "plt.title(\"Abilities of Pokemons\")"
   ]
  },
  {
   "cell_type": "markdown",
   "execution_count": null,
   "metadata": {
    "papermill": {
     "duration": 0.015225,
     "end_time": "2020-09-07T07:48:01.259300",
     "exception": false,
     "start_time": "2020-09-07T07:48:01.244075",
     "status": "completed"
    },
    "tags": []
   },
   "source": [
    "# Box Plot\n",
    "A Box and Whisker Plot (or Box Plot) is a convenient way of visually displaying the data distribution through their quartiles."
   ]
  },
  {
   "cell_type": "markdown",
   "execution_count": null,
   "metadata": {
    "papermill": {
     "duration": 0.016484,
     "end_time": "2020-09-07T07:48:01.295857",
     "exception": false,
     "start_time": "2020-09-07T07:48:01.279373",
     "status": "completed"
    },
    "tags": []
   },
   "source": [
    "![](https://datavizcatalogue.com/methods/images/anatomy/box_plot.png)\n",
    "<font size=1><center>Source: [DataVizCatalogue](https://datavizcatalogue.com/methods/images/anatomy/box_plot.png)</center></font>"
   ]
  },
  {
   "cell_type": "markdown",
   "execution_count": null,
   "metadata": {
    "papermill": {
     "duration": 0.015369,
     "end_time": "2020-09-07T07:48:01.326885",
     "exception": false,
     "start_time": "2020-09-07T07:48:01.311516",
     "status": "completed"
    },
    "tags": []
   },
   "source": [
    "## Simple Box Plot"
   ]
  },
  {
   "cell_type": "code",
   "execution_count": 11,
   "metadata": {
    "execution": {
     "iopub.execute_input": "2020-09-07T07:48:01.378729Z",
     "iopub.status.busy": "2020-09-07T07:48:01.376952Z",
     "iopub.status.idle": "2020-09-07T07:48:01.518229Z",
     "shell.execute_reply": "2020-09-07T07:48:01.517080Z"
    },
    "papermill": {
     "duration": 0.176031,
     "end_time": "2020-09-07T07:48:01.518391",
     "exception": false,
     "start_time": "2020-09-07T07:48:01.342360",
     "status": "completed"
    },
    "tags": []
   },
   "outputs": [
    {
     "data": {
      "text/plain": [
       "Text(0.5, 1.0, 'Simple Box Plot')"
      ]
     },
     "execution_count": 11,
     "metadata": {},
     "output_type": "execute_result"
    },
    {
     "data": {
      "image/png": "[encoded data removed]",
      "text/plain": [
       "<Figure size 720x432 with 1 Axes>"
      ]
     },
     "metadata": {
      "needs_background": "light"
     },
     "output_type": "display_data"
    }
   ],
   "source": [
    "plt.figure(figsize=(10,6))\n",
    "plt.boxplot(heart_diseases['chol'])\n",
    "plt.ylabel('Value')\n",
    "plt.title(\"Simple Box Plot\")"
   ]
  },
  {
   "cell_type": "markdown",
   "execution_count": null,
   "metadata": {
    "papermill": {
     "duration": 0.015912,
     "end_time": "2020-09-07T07:48:01.550318",
     "exception": false,
     "start_time": "2020-09-07T07:48:01.534406",
     "status": "completed"
    },
    "tags": []
   },
   "source": [
    "## Multiple Box"
   ]
  },
  {
   "cell_type": "code",
   "execution_count": 12,
   "metadata": {
    "execution": {
     "iopub.execute_input": "2020-09-07T07:48:01.596582Z",
     "iopub.status.busy": "2020-09-07T07:48:01.589237Z",
     "iopub.status.idle": "2020-09-07T07:48:01.764161Z",
     "shell.execute_reply": "2020-09-07T07:48:01.763308Z"
    },
    "papermill": {
     "duration": 0.197988,
     "end_time": "2020-09-07T07:48:01.764303",
     "exception": false,
     "start_time": "2020-09-07T07:48:01.566315",
     "status": "completed"
    },
    "tags": []
   },
   "outputs": [
    {
     "data": {
      "text/plain": [
       "Text(0.5, 1.0, 'Box Plot')"
      ]
     },
     "execution_count": 12,
     "metadata": {},
     "output_type": "execute_result"
    },
    {
     "data": {
      "image/png": "[encoded data removed]",
      "text/plain": [
       "<Figure size 720x432 with 1 Axes>"
      ]
     },
     "metadata": {
      "needs_background": "light"
     },
     "output_type": "display_data"
    }
   ],
   "source": [
    "plt.figure(figsize=(10,6))\n",
    "plt.boxplot([diabetes['Age'], diabetes['BMI']])\n",
    "plt.ylabel('Value')\n",
    "plt.title(\"Box Plot\")"
   ]
  },
  {
   "cell_type": "markdown",
   "execution_count": null,
   "metadata": {
    "papermill": {
     "duration": 0.016314,
     "end_time": "2020-09-07T07:48:01.797312",
     "exception": false,
     "start_time": "2020-09-07T07:48:01.780998",
     "status": "completed"
    },
    "tags": []
   },
   "source": [
    "## Adding Xticks to Box Plot"
   ]
  },
  {
   "cell_type": "code",
   "execution_count": 13,
   "metadata": {
    "execution": {
     "iopub.execute_input": "2020-09-07T07:48:01.848030Z",
     "iopub.status.busy": "2020-09-07T07:48:01.847162Z",
     "iopub.status.idle": "2020-09-07T07:48:02.052200Z",
     "shell.execute_reply": "2020-09-07T07:48:02.051510Z"
    },
    "papermill": {
     "duration": 0.238407,
     "end_time": "2020-09-07T07:48:02.052336",
     "exception": false,
     "start_time": "2020-09-07T07:48:01.813929",
     "status": "completed"
    },
    "tags": []
   },
   "outputs": [
    {
     "data": {
      "text/plain": [
       "Text(0.5, 1.0, 'Box Plot')"
      ]
     },
     "execution_count": 13,
     "metadata": {},
     "output_type": "execute_result"
    },
    {
     "data": {
      "image/png": "[encoded data removed]",
      "text/plain": [
       "<Figure size 720x432 with 1 Axes>"
      ]
     },
     "metadata": {
      "needs_background": "light"
     },
     "output_type": "display_data"
    }
   ],
   "source": [
    "plt.figure(figsize=(10,6))\n",
    "plt.boxplot([diabetes['Age'], diabetes['BMI'], diabetes['BloodPressure'], diabetes['Glucose']])\n",
    "plt.xticks([1, 2, 3, 4], ['Age', 'BMI', 'BloodPressure', 'Glucose'])\n",
    "plt.ylabel('Value')\n",
    "plt.title(\"Box Plot\")"
   ]
  },
  {
   "cell_type": "markdown",
   "execution_count": null,
   "metadata": {
    "papermill": {
     "duration": 0.016514,
     "end_time": "2020-09-07T07:48:02.085782",
     "exception": false,
     "start_time": "2020-09-07T07:48:02.069268",
     "status": "completed"
    },
    "tags": []
   },
   "source": [
    "# Horizontal Box Plot"
   ]
  },
  {
   "cell_type": "code",
   "execution_count": 14,
   "metadata": {
    "execution": {
     "iopub.execute_input": "2020-09-07T07:48:02.138546Z",
     "iopub.status.busy": "2020-09-07T07:48:02.135958Z",
     "iopub.status.idle": "2020-09-07T07:48:02.336687Z",
     "shell.execute_reply": "2020-09-07T07:48:02.336042Z"
    },
    "papermill": {
     "duration": 0.234196,
     "end_time": "2020-09-07T07:48:02.336837",
     "exception": false,
     "start_time": "2020-09-07T07:48:02.102641",
     "status": "completed"
    },
    "tags": []
   },
   "outputs": [
    {
     "data": {
      "text/plain": [
       "Text(0.5, 1.0, 'Box Plot')"
      ]
     },
     "execution_count": 14,
     "metadata": {},
     "output_type": "execute_result"
    },
    {
     "data": {
      "image/png": "[encoded data removed]",
      "text/plain": [
       "<Figure size 720x432 with 1 Axes>"
      ]
     },
     "metadata": {
      "needs_background": "light"
     },
     "output_type": "display_data"
    }
   ],
   "source": [
    "plt.figure(figsize=(10,6))\n",
    "plt.boxplot([diabetes['Age'], diabetes['BMI'], diabetes['BloodPressure'], diabetes['Glucose']], vert=False)\n",
    "plt.yticks([1, 2, 3, 4], ['Age', 'BMI', 'BloodPressure', 'Glucose'])\n",
    "plt.xlabel('Value')\n",
    "plt.title(\"Box Plot\")"
   ]
  },
  {
   "cell_type": "markdown",
   "execution_count": null,
   "metadata": {
    "papermill": {
     "duration": 0.017298,
     "end_time": "2020-09-07T07:48:02.371855",
     "exception": false,
     "start_time": "2020-09-07T07:48:02.354557",
     "status": "completed"
    },
    "tags": []
   },
   "source": [
    "# Area Plot\n",
    "\n",
    "An area chart is really similar to a line chart, except that the area between the x axis and the line is filled in with color or shading. It represents the evolution of a numerical variable following another numerical variable. "
   ]
  },
  {
   "cell_type": "markdown",
   "execution_count": null,
   "metadata": {
    "papermill": {
     "duration": 0.017282,
     "end_time": "2020-09-07T07:48:02.406965",
     "exception": false,
     "start_time": "2020-09-07T07:48:02.389683",
     "status": "completed"
    },
    "tags": []
   },
   "source": [
    "![](https://datavizcatalogue.com/methods/images/anatomy/area_graph.png)\n",
    "<font size=1><center>Source: [DataVizCatalogue](https://datavizcatalogue.com/methods/images/anatomy/area_graph.png)</center></font>"
   ]
  },
  {
   "cell_type": "code",
   "execution_count": 15,
   "metadata": {
    "execution": {
     "iopub.execute_input": "2020-09-07T07:48:02.460471Z",
     "iopub.status.busy": "2020-09-07T07:48:02.452201Z",
     "iopub.status.idle": "2020-09-07T07:48:02.476837Z",
     "shell.execute_reply": "2020-09-07T07:48:02.476047Z"
    },
    "papermill": {
     "duration": 0.052381,
     "end_time": "2020-09-07T07:48:02.476969",
     "exception": false,
     "start_time": "2020-09-07T07:48:02.424588",
     "status": "completed"
    },
    "tags": []
   },
   "outputs": [],
   "source": [
    "temp = corona_virus.groupby('ObservationDate')['Confirmed'].sum().reset_index()"
   ]
  },
  {
   "cell_type": "code",
   "execution_count": 16,
   "metadata": {
    "execution": {
     "iopub.execute_input": "2020-09-07T07:48:02.532652Z",
     "iopub.status.busy": "2020-09-07T07:48:02.526886Z",
     "iopub.status.idle": "2020-09-07T07:48:02.839908Z",
     "shell.execute_reply": "2020-09-07T07:48:02.840479Z"
    },
    "papermill": {
     "duration": 0.346241,
     "end_time": "2020-09-07T07:48:02.840654",
     "exception": false,
     "start_time": "2020-09-07T07:48:02.494413",
     "status": "completed"
    },
    "tags": []
   },
   "outputs": [
    {
     "data": {
      "image/png": "[encoded data removed]",
      "text/plain": [
       "<Figure size 1440x864 with 1 Axes>"
      ]
     },
     "metadata": {
      "needs_background": "light"
     },
     "output_type": "display_data"
    }
   ],
   "source": [
    "fig = plt.figure(figsize=(20,12))\n",
    "plt.fill_between(temp['ObservationDate'][:30], temp['Confirmed'][:30], color='lightblue')\n",
    "plt.xticks(rotation=90)\n",
    "plt.show()"
   ]
  },
  {
   "cell_type": "markdown",
   "execution_count": null,
   "metadata": {
    "papermill": {
     "duration": 0.017579,
     "end_time": "2020-09-07T07:48:02.876165",
     "exception": false,
     "start_time": "2020-09-07T07:48:02.858586",
     "status": "completed"
    },
    "tags": []
   },
   "source": [
    "# Stacked Area Chart"
   ]
  },
  {
   "cell_type": "code",
   "execution_count": 17,
   "metadata": {
    "execution": {
     "iopub.execute_input": "2020-09-07T07:48:02.940920Z",
     "iopub.status.busy": "2020-09-07T07:48:02.939628Z",
     "iopub.status.idle": "2020-09-07T07:48:02.999936Z",
     "shell.execute_reply": "2020-09-07T07:48:02.999124Z"
    },
    "papermill": {
     "duration": 0.106048,
     "end_time": "2020-09-07T07:48:03.000113",
     "exception": false,
     "start_time": "2020-09-07T07:48:02.894065",
     "status": "completed"
    },
    "tags": []
   },
   "outputs": [],
   "source": [
    "india = corona_virus[corona_virus['Country/Region']=='India'].groupby('ObservationDate')['Confirmed'].sum().reset_index()\n",
    "us = corona_virus[corona_virus['Country/Region']=='US'].groupby('ObservationDate')['Confirmed'].sum().reset_index()\n",
    "brazil = corona_virus[corona_virus['Country/Region']=='Brazil'].groupby('ObservationDate')['Confirmed'].sum().reset_index()"
   ]
  },
  {
   "cell_type": "code",
   "execution_count": 18,
   "metadata": {
    "execution": {
     "iopub.execute_input": "2020-09-07T07:48:03.053980Z",
     "iopub.status.busy": "2020-09-07T07:48:03.052929Z",
     "iopub.status.idle": "2020-09-07T07:48:03.657202Z",
     "shell.execute_reply": "2020-09-07T07:48:03.657891Z"
    },
    "papermill": {
     "duration": 0.639139,
     "end_time": "2020-09-07T07:48:03.658087",
     "exception": false,
     "start_time": "2020-09-07T07:48:03.018948",
     "status": "completed"
    },
    "tags": []
   },
   "outputs": [
    {
     "data": {
      "image/png": "[encoded data removed]",
      "text/plain": [
       "<Figure size 1440x864 with 1 Axes>"
      ]
     },
     "metadata": {
      "needs_background": "light"
     },
     "output_type": "display_data"
    }
   ],
   "source": [
    "fig = plt.figure(figsize=(20,12))\n",
    "plt.stackplot(temp['ObservationDate'][-50:], us['Confirmed'][-50:],india['Confirmed'][-50:], \n",
    "              brazil['Confirmed'][-50:], labels=['US', 'India', 'Brazil'])\n",
    "plt.xticks(rotation=90)\n",
    "plt.legend(loc='upper left')\n",
    "\n",
    "plt.show()"
   ]
  },
  {
   "cell_type": "markdown",
   "execution_count": null,
   "metadata": {
    "papermill": {
     "duration": 0.032704,
     "end_time": "2020-09-07T07:48:03.710661",
     "exception": false,
     "start_time": "2020-09-07T07:48:03.677957",
     "status": "completed"
    },
    "tags": []
   },
   "source": [
    "# Lollipop Plot\n",
    "\n",
    "A lollipop plot is an hybrid between a scatter plot and a barplot. It shows the relationship between a numerical variable and another variable, numerical OR\n",
    "categorical."
   ]
  },
  {
   "cell_type": "code",
   "execution_count": 19,
   "metadata": {
    "execution": {
     "iopub.execute_input": "2020-09-07T07:48:03.758121Z",
     "iopub.status.busy": "2020-09-07T07:48:03.755899Z",
     "iopub.status.idle": "2020-09-07T07:48:03.762348Z",
     "shell.execute_reply": "2020-09-07T07:48:03.761607Z"
    },
    "papermill": {
     "duration": 0.032625,
     "end_time": "2020-09-07T07:48:03.762501",
     "exception": false,
     "start_time": "2020-09-07T07:48:03.729876",
     "status": "completed"
    },
    "tags": []
   },
   "outputs": [],
   "source": [
    "temp = latest_covid_cases.sort_values('Confirmed', ascending= False)[['Country_Region','Confirmed']]"
   ]
  },
  {
   "cell_type": "code",
   "execution_count": 20,
   "metadata": {
    "execution": {
     "iopub.execute_input": "2020-09-07T07:48:03.813578Z",
     "iopub.status.busy": "2020-09-07T07:48:03.812362Z",
     "iopub.status.idle": "2020-09-07T07:48:03.990516Z",
     "shell.execute_reply": "2020-09-07T07:48:03.989816Z"
    },
    "papermill": {
     "duration": 0.209372,
     "end_time": "2020-09-07T07:48:03.990656",
     "exception": false,
     "start_time": "2020-09-07T07:48:03.781284",
     "status": "completed"
    },
    "tags": []
   },
   "outputs": [
    {
     "name": "stderr",
     "output_type": "stream",
     "text": [
      "/opt/conda/lib/python3.7/site-packages/ipykernel_launcher.py:1: UserWarning: In Matplotlib 3.3 individual lines on a stem plot will be added as a LineCollection instead of individual lines. This significantly improves the performance of a stem plot. To remove this warning and switch to the new behaviour, set the \"use_line_collection\" keyword argument to True.\n",
      "  \"\"\"Entry point for launching an IPython kernel.\n"
     ]
    },
    {
     "data": {
      "image/png": "[encoded data removed]",
      "text/plain": [
       "<Figure size 432x288 with 1 Axes>"
      ]
     },
     "metadata": {
      "needs_background": "light"
     },
     "output_type": "display_data"
    }
   ],
   "source": [
    "plt.stem(temp['Country_Region'][:10], temp['Confirmed'][:10])\n",
    "plt.xticks(rotation=90)\n",
    "plt.show()"
   ]
  },
  {
   "cell_type": "markdown",
   "execution_count": null,
   "metadata": {
    "papermill": {
     "duration": 0.02008,
     "end_time": "2020-09-07T07:48:04.030576",
     "exception": false,
     "start_time": "2020-09-07T07:48:04.010496",
     "status": "completed"
    },
    "tags": []
   },
   "source": [
    "# Horizontal Lollipop"
   ]
  },
  {
   "cell_type": "code",
   "execution_count": 21,
   "metadata": {
    "execution": {
     "iopub.execute_input": "2020-09-07T07:48:04.086574Z",
     "iopub.status.busy": "2020-09-07T07:48:04.079889Z",
     "iopub.status.idle": "2020-09-07T07:48:04.247575Z",
     "shell.execute_reply": "2020-09-07T07:48:04.248180Z"
    },
    "papermill": {
     "duration": 0.19718,
     "end_time": "2020-09-07T07:48:04.248371",
     "exception": false,
     "start_time": "2020-09-07T07:48:04.051191",
     "status": "completed"
    },
    "tags": []
   },
   "outputs": [
    {
     "data": {
      "image/png": "[encoded data removed]",
      "text/plain": [
       "<Figure size 432x288 with 1 Axes>"
      ]
     },
     "metadata": {
      "needs_background": "light"
     },
     "output_type": "display_data"
    }
   ],
   "source": [
    "plt.hlines(y=temp['Country_Region'][:10][::-1], xmin=0, xmax=temp['Confirmed'][:10][::-1], color='skyblue')\n",
    "plt.plot(temp['Confirmed'][:10][::-1], temp['Country_Region'][:10][::-1], 'D')\n",
    "plt.xticks(rotation=90)\n",
    "plt.show()"
   ]
  },
  {
   "cell_type": "markdown",
   "execution_count": null,
   "metadata": {
    "papermill": {
     "duration": 0.019074,
     "end_time": "2020-09-07T07:48:04.286967",
     "exception": false,
     "start_time": "2020-09-07T07:48:04.267893",
     "status": "completed"
    },
    "tags": []
   },
   "source": [
    "## Don't forget to upvote if you like it!. \n",
    "If you have any doubt reagrding any part of the notebook, feel free to comment your doubt in the comment box.\n",
    "\n",
    "Thank you!!\n",
    "\n",
    "## Work in Progress... ⏳"
   ]
  }
 ],
 "metadata": {
  "kernelspec": {
   "display_name": "Python 3",
   "language": "python",
   "name": "python3"
  },
  "language_info": {
   "codemirror_mode": {
    "name": "ipython",
    "version": 3
   },
   "file_extension": ".py",
   "mimetype": "text/x-python",
   "name": "python",
   "nbconvert_exporter": "python",
   "pygments_lexer": "ipython3",
   "version": "3.7.6"
  },
  "papermill": {
   "duration": 11.593654,
   "end_time": "2020-09-07T07:48:04.415183",
   "environment_variables": {},
   "exception": null,
   "input_path": "__notebook__.ipynb",
   "output_path": "__notebook__.ipynb",
   "parameters": {},
   "start_time": "2020-09-07T07:47:52.821529",
   "version": "2.1.0"
  }
 },
 "nbformat": 4,
 "nbformat_minor": 4
}
